{
 "cells": [
  {
   "cell_type": "markdown",
   "id": "18dcaba3",
   "metadata": {},
   "source": [
    "# Stochastic Gradient Descent Monte Carlo\n",
    "***\n",
    "## Summary"
   ]
  },
  {
   "cell_type": "markdown",
   "id": "dd716c98",
   "metadata": {},
   "source": [
    "$\\textrm{We have learnt about MCMC algorithms, which are used to sample from a given target density }\\mathrm{\\pi(\\theta)}\\textrm{. But the issue is that MCMC is}$ \n",
    "$\\textrm{computationally slow, so the paper looks at the alternatives and improvements to MCMC,}$\n",
    "***"
   ]
  },
  {
   "cell_type": "markdown",
   "id": "32f8a478",
   "metadata": {},
   "source": [
    "### Langevin Diffusion\n",
    "$\\textrm{The Langevin Diffusion is governed by the following equation:}$\n",
    "$$\\mathrm{d\\theta(t) = \\frac{-1}{2}\\nabla U(\\theta(t))dt + d\\beta_{t}}$$\n",
    "$$\\textrm{Where: }\\mathrm{\\nabla U(\\theta(t)) \\rightarrow}\\textrm{ Drift Term, }\\mathrm{\\beta_{t} \\rightarrow}\\textrm{ d-Dimensional Brownian Motion }$$\n",
    "$\\textrm{If we could simulate this exactly, it would be easy to sample from the target distribution. But this is not possible, so we have to use the }$\n",
    "$\\textrm{approximation given as: }$\n",
    "$$\\mathrm{\\theta(t+h) = \\theta(h)-\\frac{h}{2}\\nabla U(\\theta(t))+\\sqrt{h}\\textbf{Z}}$$\n",
    "$$\\textrm{Where: }\\mathrm{\\textbf{Z} \\rightarrow }\\textrm{ d-dimensional random Gaussian variables.}$$\n",
    "$\\textrm{Hence we can sample from the Langevin Diffusion using this approximation if we know how to calculate drift term, and for a fixed h. The}$ \n",
    "$\\textrm{smaller the h, the more accurate our samples will be. Based on this philosophy, we have the following algorithms:}$ \n",
    "- $\\textrm{MALA: Metropolis Adjusted Langevin Algorithm}$ \n",
    "$\\textrm{The approximated thetas are used as proposals in the Metropolis Hastings algorithm. The proposal is then accepted or rejected}$\n",
    "$\\textrm{using the standard MH probability.}$\n",
    "- $\\textrm{ULA: Unadjusted Langevin Algorithm}$\n",
    "$\\textrm{In ULA, there is no accept or reject step. The thetas are taken directly as they are. Hence it is a biased estimator of the target density.}$ \n",
    "$\\textrm{It is more robust to bad initialization than MALA.}$\n",
    "***\n"
   ]
  },
  {
   "cell_type": "markdown",
   "id": "1a0972e6",
   "metadata": {},
   "source": [
    "### Calculating the drift term\n",
    "$\\textrm{The issue of calculating }\\mathrm{\\nabla U(\\theta(t))}\\textrm{ still remains. Calculating it directly is not computationally effecient, hence we will try to estimate it.}$ \n",
    "$\\textrm{We have the following possible ways to estimate:}$\n",
    "- $\\textrm{Stochastic Gradient Langevin Dynamics (SGLD)}$\n",
    "$$\\mathrm{\\hat{\\nabla}U(\\theta)^{n} = \\frac{N}{n}\\sum_{i \\in \\delta_{n}}\\nabla U_{i}(\\theta)}$$\n",
    "\n",
    "$\\textrm{Where }\\mathrm{\\delta_{n}}\\textrm{is a subsample from }\\mathrm{\\{1,2,.....N\\}.}$  \n",
    "$\\textrm{We initialize starting values }\\mathrm{\\theta_{0},\\{h_{1},h_{2}....h_{K}\\}}\\textrm{ Then for each time step t, we calculate }\\mathrm{\\theta_{t}}\\textrm{ using }\\mathrm{\\theta_{t-1}}\\textrm{ and }\\mathrm{ \\hat{\\nabla}U(\\theta)^{n} }\\textrm{ (using the above estimator.)}$ \n",
    "$\\textrm{The noise term }\\mathrm{\\xi}\\textrm{ is drawn from }\\mathrm{N(0,h_{k}I).}\\textrm{ It is evident that if }\\mathrm{h_{k} \\rightarrow 0}\\textrm{ as }\\mathrm{ k \\rightarrow \\infty}\\textrm{, the samples will converge to the Langevin diffusion as the step}$\n",
    "$\\textrm{size nears zero. The advantage of SGLD is that it is computationally more effecient than simply implementing MALA or ULA. }$\n",
    "- $\\textrm{Using control variates: }$ \n",
    "$$\\mathrm{\\hat{\\nabla}U(\\theta)^{n} = \\sum\\limits_{i=1}^{N}u_{i}(\\theta) + (\\frac{N}{n})\\sum\\limits_{i \\in \\delta_{n}}({\\nabla}U_{i}(\\theta) - u_{i}(\\theta))}$$\n",
    "\n",
    "$\\textrm{Here, the }\\mathrm{u_{i}(\\theta)}\\textrm{'s are known for all values of theta and n. These are the control variates that we can choose. If }\\mathrm{u_{i}(\\theta) \\approx {\\nabla}U_{i}(\\theta)}$\n",
    "$\\textrm{then the variance of the estimator is smaller. The question arises how to choose our }\\mathrm{ u_{i}}\\textrm{'s. We can use Stochastic Gradient Descent to find the }$\n",
    "$\\textrm{mode }\\mathrm{\\hat{\\theta}}\\textrm{ and then use the constant function: }$\n",
    "$$\\mathrm{ u_{i}(\\theta) = \\nabla U_{i}(\\hat{\\theta})}$$\n",
    "$\\textrm{This reduces the computational cost and the variance.}$\n",
    "- $\\textrm{Using preferential sampling:}$\n",
    "$$\\mathrm{\\hat{\\nabla}U(\\theta)^{n} = \\sum_{i \\in \\delta_{n}}\\frac{\\nabla U_{i}(\\theta)}{w_{i}}}$$\n",
    "\n",
    "$\\textrm{Where }\\mathrm{w_{i}}\\textrm{ is the expected number of times a sample i appears.}$\n",
    "- $\\textrm{Stratified sampling}$\n",
    "\n",
    "\n",
    "\n",
    "\n"
   ]
  },
  {
   "cell_type": "markdown",
   "id": "c059b1b9",
   "metadata": {},
   "source": [
    "$\\textrm{Another question is how large should our sumsample}\\mathrm{\\delta_{N}}\\textrm{ be? The answer is that is should be such that the variance of }$\n",
    "$\\textrm{the drift term is less than that of the noise term.}$"
   ]
  },
  {
   "cell_type": "markdown",
   "id": "bc420fc5",
   "metadata": {},
   "source": [
    "### Measuring the accuracy and effeciency of SGLD\n",
    "$\\textrm{Take a test function }\\mathrm{\\phi(\\theta)}\\textrm{ to calculate }\\mathrm{E_{\\pi}(\\phi(\\theta))}\\textrm{ and compare it to }\\mathrm{\\sum\\limits_{i=1}^{k}\\phi(\\theta_{k}).}\\textrm{ This can be used as a measure of accuracy of the accuracy of SGLD. Using these tests, studies have shown that we should use exact }$ \n",
    "$\\textrm{MCMC if given a large enough computational resource. Previous research has also shown that using control variates to estimate the drift }$ \n",
    "$\\textrm{term results in lesser complexity than other methods.}$\n",
    "$\\textrm{However, SGLD has the drawback that it results in the correct mode but inflated variance for large N.}$\n"
   ]
  },
  {
   "cell_type": "markdown",
   "id": "1f8af313",
   "metadata": {},
   "source": [
    "## General Stochastic Gradient MCMC\n",
    "$\\textrm{The paper generalizes the above and claims that any diffusion process can be used instead of the Langevin Diffusion. This results in the }$\n",
    "$\\textrm{generalized SGMCMC. }$\n",
    "$\\textrm{For the generalized case, we just replace }\\mathrm{\\theta}\\textrm{ by the state term }\\mathrm{\\zeta}\\textrm{. The state term encompasses }\\mathrm{\\theta}\\textrm{ and any auxilliary variables. Like above, we can }$\n",
    "$\\textrm{write the exact equation as follows: }$\n",
    "$$\\mathrm{d\\zeta = 0.5*\\textbf{b}({\\zeta) + \\sqrt{D(\\zeta)}d\\beta_{t}}}$$\n",
    "$$\\textrm{Where }\\textbf{b}\\mathrm{(\\zeta) \\rightarrow }\\textrm{Drift term }$$\n",
    "$$\\mathrm{D(\\zeta) \\rightarrow}\\textrm{ Diffusion Matrix}$$\n",
    "$\\textrm{Assuming that our state has no auxilliary variables, we can generate a stationary distribution proportional to our target density }\\mathrm{\\pi}\\textrm{, by setting }$\n",
    "$\\textrm{the following conditions: }$\n",
    "$$\\textbf{b}\\mathrm{(\\zeta) = -[}\\mathbf{D(\\zeta)+Q(\\zeta)]\\nabla U(\\zeta) + \\Gamma(\\zeta)}$$\n",
    "$\\textrm{We can use the same approximation as we used in the Langevin Diffusion to get the following time discret version of the above equation: }$\n",
    "$$\\mathbf{\\zeta_{t+h} = \\zeta_{t} - \\frac{h}{2}[(D(\\zeta)+Q(\\zeta))\\nabla U(\\zeta) + \\Gamma(\\zeta)] + \\sqrt{h}Z}$$\n",
    "$\\textrm{We can prevent an inflated loss by using }\\mathbf{Z }\\mathrm{ \\sim (0,}\\mathbf{D(\\zeta)}\\mathrm{-h}\\mathbf{B(\\zeta)}\\textrm{). This can be done if h is small enough. }$\n",
    "$\\textrm{The diffusion }\\mathbf{(D(\\zeta)}\\textrm{ controls the level of noise. So a larger diffusion term means that you can escape local maximas.}$\n",
    "$\\textrm{Having different }\\mathbf{H(\\zeta), Q(\\zeta), D(\\zeta) }\\textrm{result in different SGMCMC algorithms such as SGLD, SGRLD, SGHMC, SGRHMC and SGNHT.}$\n",
    "***"
   ]
  }
 ],
 "metadata": {
  "kernelspec": {
   "display_name": "Julia 1.7.2",
   "language": "julia",
   "name": "julia-1.7"
  },
  "language_info": {
   "file_extension": ".jl",
   "mimetype": "application/julia",
   "name": "julia",
   "version": "1.7.2"
  }
 },
 "nbformat": 4,
 "nbformat_minor": 5
}
